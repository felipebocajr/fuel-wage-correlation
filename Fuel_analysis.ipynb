{
 "cells": [
  {
   "cell_type": "markdown",
   "metadata": {},
   "source": [
    "# First imports"
   ]
  },
  {
   "cell_type": "code",
   "execution_count": null,
   "metadata": {},
   "outputs": [],
   "source": [
    "# Import necessary libraries for data manipulation, numerical operations, and visualization\n",
    "import pandas as pd\n",
    "import seaborn as sns\n",
    "import numpy as np\n",
    "import glob\n",
    "import os\n",
    "import matplotlib.pyplot as plt"
   ]
  },
  {
   "cell_type": "code",
   "execution_count": null,
   "metadata": {},
   "outputs": [],
   "source": [
    "# specify the path of the files \n",
    "file_path = 'content/*.csv'\n",
    "\n",
    "# Use glob to get the list of all corresponding files\n",
    "all_files = glob.glob(file_path)\n",
    "\n",
    "# Inicialize an empty list to storage the dataframes\n",
    "dfs = []\n",
    "\n",
    "# Iterate over the list of files and read each one into a DataFrame\n",
    "for file in all_files:\n",
    "    df = pd.read_csv(file, sep=';', encoding='latin1')  \n",
    "    dfs.append(df)\n",
    "\n",
    "# Combine all the dataframes in one\n",
    "fuels_data = pd.concat(dfs, ignore_index=True)\n",
    "\n",
    "# show the first lines of the combined dataframe\n",
    "fuels_data.head()\n"
   ]
  },
  {
   "cell_type": "code",
   "execution_count": null,
   "metadata": {},
   "outputs": [],
   "source": [
    "# Display the rows and columns of the dataframe\n",
    "fuels_data.shape"
   ]
  },
  {
   "cell_type": "markdown",
   "metadata": {},
   "source": [
    "# Data Manipulation"
   ]
  },
  {
   "cell_type": "code",
   "execution_count": null,
   "metadata": {},
   "outputs": [],
   "source": [
    "# display the type of the columns\n",
    "fuels_data.info()"
   ]
  },
  {
   "cell_type": "code",
   "execution_count": null,
   "metadata": {},
   "outputs": [],
   "source": [
    "# Apllying lambda to replace all the ',' to '.' at the row 'Valor de Venda'\n",
    "fuels_data['Valor de Venda'] = fuels_data['Valor de Venda'].apply(lambda x: str(x).replace(',', '.'))"
   ]
  },
  {
   "cell_type": "code",
   "execution_count": null,
   "metadata": {},
   "outputs": [],
   "source": [
    "# Change the datatype of 'valor de venda' to float64\n",
    "fuels_data['Valor de Venda'] = fuels_data['Valor de Venda'].astype(np.float64)"
   ]
  },
  {
   "cell_type": "code",
   "execution_count": null,
   "metadata": {},
   "outputs": [],
   "source": [
    "# List of columns to delete\n",
    "columns_to_delete = ['ï»¿Regiao - Sigla', 'Municipio', 'Revenda', 'CNPJ da Revenda', 'Nome da Rua', 'Numero Rua', 'Complemento', 'Bairro', 'Cep', 'Valor de Compra', 'Bandeira', 'Regiao - Sigla']"
   ]
  },
  {
   "cell_type": "code",
   "execution_count": null,
   "metadata": {},
   "outputs": [],
   "source": [
    "# Deleting those columns above\n",
    "fuels_data = fuels_data.drop(columns= columns_to_delete, axis=1).copy()"
   ]
  },
  {
   "cell_type": "code",
   "execution_count": null,
   "metadata": {},
   "outputs": [],
   "source": [
    "fuels_data.head()"
   ]
  },
  {
   "cell_type": "code",
   "execution_count": null,
   "metadata": {},
   "outputs": [],
   "source": [
    "# Display all the unique data of the row 'Unidade de Medida'\n",
    "fuels_data['Unidade de Medida'].unique()"
   ]
  },
  {
   "cell_type": "code",
   "execution_count": null,
   "metadata": {},
   "outputs": [],
   "source": [
    "# Only use the rows where 'Unidade de Medida' equals 'R$ / litro'\n",
    "fuels_data = fuels_data[fuels_data['Unidade de Medida'] == 'R$ / litro']"
   ]
  },
  {
   "cell_type": "code",
   "execution_count": null,
   "metadata": {},
   "outputs": [],
   "source": [
    "# Change the datatype of 'Data da coleta' to datetime 'dd/mm/yyyy\n",
    "fuels_data['Data da Coleta'] = pd.to_datetime(fuels_data['Data da Coleta'], format='%d/%m/%Y')"
   ]
  },
  {
   "cell_type": "code",
   "execution_count": null,
   "metadata": {},
   "outputs": [],
   "source": [
    "# Change the format to 'mm-yyyy'\n",
    "fuels_data['Data da Coleta'] = fuels_data['Data da Coleta'].dt.strftime('%m-%Y')"
   ]
  },
  {
   "cell_type": "code",
   "execution_count": null,
   "metadata": {},
   "outputs": [],
   "source": [
    "# Display the rows and columns of the dataframe\n",
    "fuels_data.shape"
   ]
  },
  {
   "cell_type": "code",
   "execution_count": null,
   "metadata": {},
   "outputs": [],
   "source": [
    "# Display the unique values at the row 'Produto'\n",
    "fuels_data['Produto'].unique()"
   ]
  },
  {
   "cell_type": "markdown",
   "metadata": {},
   "source": [
    "Gas data select"
   ]
  },
  {
   "cell_type": "code",
   "execution_count": null,
   "metadata": {},
   "outputs": [],
   "source": [
    "# Selects only the rows where 'produto' equals 'gasolina'\n",
    "gas_data = fuels_data[fuels_data['Produto'] == 'GASOLINA']\n",
    "gas_data.head()"
   ]
  },
  {
   "cell_type": "code",
   "execution_count": null,
   "metadata": {},
   "outputs": [],
   "source": [
    "gas_data.shape"
   ]
  },
  {
   "cell_type": "markdown",
   "metadata": {},
   "source": [
    "ethanol data select"
   ]
  },
  {
   "cell_type": "code",
   "execution_count": null,
   "metadata": {},
   "outputs": [],
   "source": [
    "# # Selects only the rows where 'produto' equals 'etanol'\n",
    "ethanol_data = fuels_data[fuels_data['Produto'] == 'ETANOL']\n",
    "ethanol_data.head()"
   ]
  },
  {
   "cell_type": "code",
   "execution_count": null,
   "metadata": {},
   "outputs": [],
   "source": [
    "ethanol_data.shape"
   ]
  },
  {
   "cell_type": "markdown",
   "metadata": {},
   "source": [
    "# Minimum wage"
   ]
  },
  {
   "cell_type": "code",
   "execution_count": null,
   "metadata": {},
   "outputs": [],
   "source": [
    "# Reads a html file\n",
    "minimum_wage = pd.read_html(\"Brazil_minimum_wage.html\")"
   ]
  },
  {
   "cell_type": "code",
   "execution_count": null,
   "metadata": {},
   "outputs": [],
   "source": [
    "# Display the lenght of the list of dataframes at the html\n",
    "len(minimum_wage)"
   ]
  },
  {
   "cell_type": "code",
   "execution_count": null,
   "metadata": {},
   "outputs": [],
   "source": [
    "# Display the first dataframe\n",
    "minimum_wage[0]    "
   ]
  },
  {
   "cell_type": "code",
   "execution_count": null,
   "metadata": {},
   "outputs": [],
   "source": [
    "# Display the second dataframe\n",
    "minimum_wage[1]"
   ]
  },
  {
   "cell_type": "code",
   "execution_count": null,
   "metadata": {},
   "outputs": [],
   "source": [
    "# Display the third dataframe\n",
    "minimum_wage[2]"
   ]
  },
  {
   "cell_type": "code",
   "execution_count": null,
   "metadata": {},
   "outputs": [],
   "source": [
    "# Choosing the third dataframe\n",
    "minimum_wage = minimum_wage[2]"
   ]
  },
  {
   "cell_type": "code",
   "execution_count": null,
   "metadata": {},
   "outputs": [],
   "source": [
    "# Dropping the first row of the dataframe (old header)\n",
    "minimum_wage = minimum_wage.drop(0, axis=0)"
   ]
  },
  {
   "cell_type": "code",
   "execution_count": null,
   "metadata": {},
   "outputs": [],
   "source": [
    "# dropping some columns\n",
    "minimum_wage = minimum_wage.drop([0, 3, 4], axis=1)"
   ]
  },
  {
   "cell_type": "code",
   "execution_count": null,
   "metadata": {},
   "outputs": [],
   "source": [
    "# Dropping the last rows (unnecessary)\n",
    "minimum_wage = minimum_wage.drop([32, 33, 34, 35, 36], axis=0)"
   ]
  },
  {
   "cell_type": "code",
   "execution_count": null,
   "metadata": {},
   "outputs": [],
   "source": [
    "minimum_wage"
   ]
  },
  {
   "cell_type": "code",
   "execution_count": null,
   "metadata": {},
   "outputs": [],
   "source": [
    "# Defining the new names of the columns\n",
    "minimum_wage.columns = ['Data', 'Valor']"
   ]
  },
  {
   "cell_type": "code",
   "execution_count": null,
   "metadata": {},
   "outputs": [],
   "source": [
    "# Apply a Lambda method to replace the ',' to '.' at the columns 'Valor'\n",
    "minimum_wage['Valor'] = minimum_wage['Valor'].apply(lambda x: x.replace(',', '.'))"
   ]
  },
  {
   "cell_type": "code",
   "execution_count": null,
   "metadata": {},
   "outputs": [],
   "source": [
    "# Reseting the index at the wage datafrme\n",
    "minimum_wage = minimum_wage.reset_index(drop=True)"
   ]
  },
  {
   "cell_type": "code",
   "execution_count": null,
   "metadata": {},
   "outputs": [],
   "source": [
    "# Manually fixing the 6th row to it's correct value \n",
    "minimum_wage['Valor'][5] = 'R$ 1.045.00'"
   ]
  },
  {
   "cell_type": "code",
   "execution_count": null,
   "metadata": {},
   "outputs": [],
   "source": [
    "minimum_wage"
   ]
  },
  {
   "cell_type": "markdown",
   "metadata": {},
   "source": [
    "**Applying a replace using regex at the column 'Valor' to remove unescessary text (we only want the integer value of wage)**"
   ]
  },
  {
   "cell_type": "code",
   "execution_count": null,
   "metadata": {},
   "outputs": [],
   "source": [
    "minimum_wage['Valor'] = minimum_wage['Valor'].str.replace(r'R\\$ \\d+\\.\\d{2} com reajuste em \\w+ para R\\$', '', regex=True)"
   ]
  },
  {
   "cell_type": "code",
   "execution_count": null,
   "metadata": {},
   "outputs": [],
   "source": [
    "minimum_wage['Valor'] = minimum_wage['Valor'].str.replace('R$', '')"
   ]
  },
  {
   "cell_type": "code",
   "execution_count": null,
   "metadata": {},
   "outputs": [],
   "source": [
    "minimum_wage['Valor'] = minimum_wage['Valor'].str.replace('.00', '')"
   ]
  },
  {
   "cell_type": "code",
   "execution_count": null,
   "metadata": {},
   "outputs": [],
   "source": [
    "minimum_wage['Valor'] = minimum_wage['Valor'].str.replace('.', '')"
   ]
  },
  {
   "cell_type": "code",
   "execution_count": null,
   "metadata": {},
   "outputs": [],
   "source": [
    "minimum_wage['Valor'] = minimum_wage['Valor'].astype(np.float64)"
   ]
  },
  {
   "cell_type": "code",
   "execution_count": null,
   "metadata": {},
   "outputs": [],
   "source": [
    "minimum_wage.head(40)"
   ]
  },
  {
   "cell_type": "markdown",
   "metadata": {},
   "source": [
    "## Grouping per year"
   ]
  },
  {
   "cell_type": "markdown",
   "metadata": {},
   "source": [
    "**Formating the 'Data' column correctly so we can group the values per year only**"
   ]
  },
  {
   "cell_type": "code",
   "execution_count": null,
   "metadata": {},
   "outputs": [],
   "source": [
    "# Changing the format of the column 'Data' \n",
    "minimum_wage['Data'] = minimum_wage['Data'].str.replace('/', '-')"
   ]
  },
  {
   "cell_type": "code",
   "execution_count": null,
   "metadata": {},
   "outputs": [],
   "source": [
    "minimum_wage['Data'] = pd.to_datetime(minimum_wage['Data'], format='%m-%Y')"
   ]
  },
  {
   "cell_type": "code",
   "execution_count": null,
   "metadata": {},
   "outputs": [],
   "source": [
    "minimum_wage['Data'] = minimum_wage['Data'].dt.year"
   ]
  },
  {
   "cell_type": "code",
   "execution_count": null,
   "metadata": {},
   "outputs": [],
   "source": [
    "minimum_wage = minimum_wage[minimum_wage['Data'] > 2003]"
   ]
  },
  {
   "cell_type": "code",
   "execution_count": null,
   "metadata": {},
   "outputs": [],
   "source": [
    "minimum_wage = minimum_wage[minimum_wage['Data'] != 2024]"
   ]
  },
  {
   "cell_type": "code",
   "execution_count": null,
   "metadata": {},
   "outputs": [],
   "source": [
    "minimum_wage = minimum_wage[minimum_wage['Valor'] != 1302]"
   ]
  },
  {
   "cell_type": "code",
   "execution_count": null,
   "metadata": {},
   "outputs": [],
   "source": [
    "minimum_wage = minimum_wage.reset_index(drop=True)"
   ]
  },
  {
   "cell_type": "code",
   "execution_count": null,
   "metadata": {},
   "outputs": [],
   "source": [
    "minimum_wage"
   ]
  },
  {
   "cell_type": "markdown",
   "metadata": {},
   "source": [
    "# grouping gas data"
   ]
  },
  {
   "cell_type": "code",
   "execution_count": null,
   "metadata": {},
   "outputs": [],
   "source": [
    "gas_data.head()"
   ]
  },
  {
   "cell_type": "code",
   "execution_count": null,
   "metadata": {},
   "outputs": [],
   "source": [
    "# Saving the gas_data dataframe to gas_price where we will group 'Valor de Venda' per 'Data da Coleta'\n",
    "gas_price = gas_data.copy()\n",
    "gas_price.head()"
   ]
  },
  {
   "cell_type": "code",
   "execution_count": null,
   "metadata": {},
   "outputs": [],
   "source": [
    "# Grouping the 'Valor de Venda' column per 'Data da Coleta'\n",
    "gas_price = gas_data.groupby('Data da Coleta')['Valor de Venda'].mean()"
   ]
  },
  {
   "cell_type": "code",
   "execution_count": null,
   "metadata": {},
   "outputs": [],
   "source": [
    "# Fixing the index\n",
    "gas_price = gas_price.reset_index()"
   ]
  },
  {
   "cell_type": "code",
   "execution_count": null,
   "metadata": {},
   "outputs": [],
   "source": [
    "# Changing the format to datetime mm-yyyy\n",
    "gas_price['Data da Coleta'] = pd.to_datetime(gas_price['Data da Coleta'], format='%m-%Y')"
   ]
  },
  {
   "cell_type": "code",
   "execution_count": null,
   "metadata": {},
   "outputs": [],
   "source": [
    "# Setting the new column names\n",
    "gas_price.columns = ['Data', 'Valor']"
   ]
  },
  {
   "cell_type": "code",
   "execution_count": null,
   "metadata": {},
   "outputs": [],
   "source": [
    "# Grouping again per Data, but now it's datetime type\n",
    "gas_price = gas_price.groupby('Data')['Valor'].mean()"
   ]
  },
  {
   "cell_type": "code",
   "execution_count": null,
   "metadata": {},
   "outputs": [],
   "source": [
    "# Sorting by index\n",
    "gas_price = gas_price.sort_index(ascending=False)"
   ]
  },
  {
   "cell_type": "code",
   "execution_count": null,
   "metadata": {},
   "outputs": [],
   "source": [
    "# Fixing the index\n",
    "gas_price = gas_price.reset_index()"
   ]
  },
  {
   "cell_type": "code",
   "execution_count": null,
   "metadata": {},
   "outputs": [],
   "source": [
    "gas_price.head()"
   ]
  },
  {
   "cell_type": "markdown",
   "metadata": {},
   "source": [
    "# Grouping ethanol data"
   ]
  },
  {
   "cell_type": "code",
   "execution_count": null,
   "metadata": {},
   "outputs": [],
   "source": [
    "ethanol_data.head()"
   ]
  },
  {
   "cell_type": "code",
   "execution_count": null,
   "metadata": {},
   "outputs": [],
   "source": [
    "# Saving the ethanol_data dataframe to ethanol_price where we will group 'Valor de Venda' per 'Data da Coleta'\n",
    "\n",
    "ethanol_price = ethanol_data.copy()\n",
    "ethanol_price.head()"
   ]
  },
  {
   "cell_type": "code",
   "execution_count": null,
   "metadata": {},
   "outputs": [],
   "source": [
    "# Grouping the 'Valor de Venda' column per 'Data da Coleta'\n",
    "ethanol_price = ethanol_data.groupby('Data da Coleta')['Valor de Venda'].mean()"
   ]
  },
  {
   "cell_type": "code",
   "execution_count": null,
   "metadata": {},
   "outputs": [],
   "source": [
    "# Fixing the index of the dataframe\n",
    "ethanol_price = ethanol_price.reset_index()"
   ]
  },
  {
   "cell_type": "code",
   "execution_count": null,
   "metadata": {},
   "outputs": [],
   "source": [
    "# Changing the format to datetime mm-yyyy\n",
    "ethanol_price['Data da Coleta'] = pd.to_datetime(ethanol_price['Data da Coleta'], format='%m-%Y')"
   ]
  },
  {
   "cell_type": "code",
   "execution_count": null,
   "metadata": {},
   "outputs": [],
   "source": [
    "# Setting the new column names\n",
    "ethanol_price.columns = ['Data', 'Valor']"
   ]
  },
  {
   "cell_type": "code",
   "execution_count": null,
   "metadata": {},
   "outputs": [],
   "source": [
    "# Grouping again per Data, but now it's datetime type\n",
    "ethanol_price = ethanol_price.groupby('Data')['Valor'].mean()"
   ]
  },
  {
   "cell_type": "code",
   "execution_count": null,
   "metadata": {},
   "outputs": [],
   "source": [
    "# Sorting by index\n",
    "ethanol_price = ethanol_price.sort_index(ascending=False)"
   ]
  },
  {
   "cell_type": "code",
   "execution_count": null,
   "metadata": {},
   "outputs": [],
   "source": [
    "# Fixing the index\n",
    "ethanol_price = ethanol_price.reset_index()"
   ]
  },
  {
   "cell_type": "code",
   "execution_count": null,
   "metadata": {},
   "outputs": [],
   "source": [
    "ethanol_price.head()"
   ]
  },
  {
   "cell_type": "markdown",
   "metadata": {},
   "source": [
    "# Liters of gas per wage"
   ]
  },
  {
   "cell_type": "code",
   "execution_count": null,
   "metadata": {},
   "outputs": [],
   "source": [
    "gas_price.head()"
   ]
  },
  {
   "cell_type": "code",
   "execution_count": null,
   "metadata": {},
   "outputs": [],
   "source": [
    "minimum_wage"
   ]
  },
  {
   "cell_type": "code",
   "execution_count": null,
   "metadata": {},
   "outputs": [],
   "source": [
    "# Creating a new dataframe to show the liters of gas per wage correlation\n",
    "gas_correlation = gas_price.copy()"
   ]
  },
  {
   "cell_type": "code",
   "execution_count": null,
   "metadata": {},
   "outputs": [],
   "source": [
    "# Creating a new column to storage the Year of the column 'Data'\n",
    "gas_correlation['Ano'] = gas_correlation['Data'].dt.year"
   ]
  },
  {
   "cell_type": "code",
   "execution_count": null,
   "metadata": {},
   "outputs": [],
   "source": [
    "# Merging the 'Gas_correlation' to the 'Minimum_wage' Dataframe Using the 'Ano' and 'Data' values\n",
    "df_merged = gas_correlation.merge(minimum_wage, left_on='Ano', right_on='Data', how='left', suffixes=('', '_Anual'))"
   ]
  },
  {
   "cell_type": "code",
   "execution_count": null,
   "metadata": {},
   "outputs": [],
   "source": [
    "df_merged"
   ]
  },
  {
   "cell_type": "code",
   "execution_count": null,
   "metadata": {},
   "outputs": [],
   "source": [
    "gas_correlation"
   ]
  },
  {
   "cell_type": "code",
   "execution_count": null,
   "metadata": {},
   "outputs": [],
   "source": [
    "# Inserting the 'Valor_Anual' column to 'Gas_correlation' Dataframe\n",
    "gas_correlation['Wage'] = df_merged['Valor_Anual']"
   ]
  },
  {
   "cell_type": "code",
   "execution_count": null,
   "metadata": {},
   "outputs": [],
   "source": [
    "# Defining the new column names of the dataframe\n",
    "gas_correlation.columns = ['Data', 'Gas', 'Ano', 'Wage']"
   ]
  },
  {
   "cell_type": "code",
   "execution_count": null,
   "metadata": {},
   "outputs": [],
   "source": [
    "gas_correlation "
   ]
  },
  {
   "cell_type": "code",
   "execution_count": null,
   "metadata": {},
   "outputs": [],
   "source": [
    "# removing the 'Ano' column (unescessary)\n",
    "gas_correlation.drop('Ano', axis=1, inplace=True)"
   ]
  },
  {
   "cell_type": "code",
   "execution_count": null,
   "metadata": {},
   "outputs": [],
   "source": [
    "# Getting the number of Liters of gas one can afford with one minimum wage\n",
    "gas_correlation['liters per wage'] = gas_correlation['Wage'] / gas_correlation['Gas']"
   ]
  },
  {
   "cell_type": "code",
   "execution_count": null,
   "metadata": {},
   "outputs": [],
   "source": [
    "gas_correlation"
   ]
  },
  {
   "cell_type": "code",
   "execution_count": null,
   "metadata": {},
   "outputs": [],
   "source": [
    "# Create a new dataframe with the 'Data' and 'liters per wage' column\n",
    "gas_per_wage = gas_correlation[['Data', 'liters per wage']]"
   ]
  },
  {
   "cell_type": "code",
   "execution_count": null,
   "metadata": {},
   "outputs": [],
   "source": [
    "gas_per_wage"
   ]
  },
  {
   "cell_type": "markdown",
   "metadata": {},
   "source": [
    "# Liters of ethanol per wage"
   ]
  },
  {
   "cell_type": "code",
   "execution_count": null,
   "metadata": {},
   "outputs": [],
   "source": [
    "ethanol_price.head()"
   ]
  },
  {
   "cell_type": "code",
   "execution_count": null,
   "metadata": {},
   "outputs": [],
   "source": [
    "minimum_wage.head()"
   ]
  },
  {
   "cell_type": "code",
   "execution_count": null,
   "metadata": {},
   "outputs": [],
   "source": [
    "# Creating a new dataframe to show the liters of ethanol per wage correlation\n",
    "ethanol_correlation = ethanol_price.copy()"
   ]
  },
  {
   "cell_type": "code",
   "execution_count": null,
   "metadata": {},
   "outputs": [],
   "source": [
    "ethanol_correlation"
   ]
  },
  {
   "cell_type": "code",
   "execution_count": null,
   "metadata": {},
   "outputs": [],
   "source": [
    "# Creating a new column to storage the Year of the column 'Data'\n",
    "ethanol_correlation['Ano'] = gas_correlation['Data'].dt.year"
   ]
  },
  {
   "cell_type": "code",
   "execution_count": null,
   "metadata": {},
   "outputs": [],
   "source": [
    "# Merging the 'ethanol_correlation' to the 'Minimum_wage' Dataframe Using the 'Ano' and 'Data' values\n",
    "df_merged = ethanol_correlation.merge(minimum_wage, left_on='Ano', right_on='Data', how='left', suffixes=('', '_Anual'))"
   ]
  },
  {
   "cell_type": "code",
   "execution_count": null,
   "metadata": {},
   "outputs": [],
   "source": [
    "# Inserting the 'Valor_Anual' column to 'ethanol_correlation' Dataframe\n",
    "ethanol_correlation['Wage'] = df_merged['Valor_Anual']"
   ]
  },
  {
   "cell_type": "code",
   "execution_count": null,
   "metadata": {},
   "outputs": [],
   "source": [
    "# Defining the new column names of the dataframe\n",
    "ethanol_correlation.columns = ['Data', 'Ethanol', 'Ano', 'Wage']"
   ]
  },
  {
   "cell_type": "code",
   "execution_count": null,
   "metadata": {},
   "outputs": [],
   "source": [
    "# removing the 'Ano' column (unescessary)\n",
    "ethanol_correlation.drop('Ano', axis=1, inplace=True)"
   ]
  },
  {
   "cell_type": "code",
   "execution_count": null,
   "metadata": {},
   "outputs": [],
   "source": [
    "ethanol_correlation "
   ]
  },
  {
   "cell_type": "code",
   "execution_count": null,
   "metadata": {},
   "outputs": [],
   "source": [
    "# Getting the number of Liters of ethanol one can afford with one minimum wage\n",
    "ethanol_correlation['liters per wage'] = ethanol_correlation['Wage'] / ethanol_correlation['Ethanol']"
   ]
  },
  {
   "cell_type": "code",
   "execution_count": null,
   "metadata": {},
   "outputs": [],
   "source": [
    "ethanol_correlation.head(30)"
   ]
  },
  {
   "cell_type": "code",
   "execution_count": null,
   "metadata": {},
   "outputs": [],
   "source": [
    "# Create a new dataframe with the 'Data' and 'liters per wage' column\n",
    "ethanol_per_wage = ethanol_correlation[['Data', 'liters per wage']]"
   ]
  },
  {
   "cell_type": "code",
   "execution_count": null,
   "metadata": {},
   "outputs": [],
   "source": [
    "ethanol_per_wage"
   ]
  },
  {
   "cell_type": "markdown",
   "metadata": {},
   "source": [
    "# Plotting Liters per minimum wage"
   ]
  },
  {
   "cell_type": "code",
   "execution_count": null,
   "metadata": {},
   "outputs": [],
   "source": [
    "# Define the figure size\n",
    "plt.figure(figsize=(12, 6))\n",
    "\n",
    "# Plot the 'liters per wage' for gasoline over the years\n",
    "plt.plot(gas_per_wage['Data'], gas_per_wage['liters per wage'], label='Gasolina')\n",
    "\n",
    "# Plot the 'liters per wage' for ethanol over the years\n",
    "plt.plot(ethanol_per_wage['Data'], ethanol_per_wage['liters per wage'], label='Etanol')\n",
    "\n",
    "\n",
    "# Set the title of the plot\n",
    "plt.title('Liters per minimum wage over the years')\n",
    "\n",
    "# Set the label for the x-axis\n",
    "plt.xlabel('Year')\n",
    "\n",
    "# Set the label for the y-axis\n",
    "plt.ylabel('Liters per minimum wage')\n",
    "\n",
    "# Add a legend to the plot\n",
    "plt.legend()\n",
    "\n",
    "# Enable the grid for better visualization\n",
    "plt.grid(True)\n",
    "\n",
    "\n",
    "# Display the plot\n",
    "plt.show()\n"
   ]
  },
  {
   "cell_type": "markdown",
   "metadata": {},
   "source": [
    "# Plotting price over years"
   ]
  },
  {
   "cell_type": "code",
   "execution_count": null,
   "metadata": {},
   "outputs": [],
   "source": [
    "# Define the figure size\n",
    "plt.figure(figsize=(12, 6))\n",
    "\n",
    "# Plot the price of gasoline over the years\n",
    "plt.plot(gas_correlation['Data'], gas_correlation['Gas'], label='Gasolina')\n",
    "\n",
    "# Plot the price of ethanol over the years\n",
    "plt.plot(ethanol_correlation['Data'], ethanol_correlation['Ethanol'], label='Etanol')\n",
    "\n",
    "\n",
    "# Set the title of the plot\n",
    "plt.title('Price over the year')\n",
    "\n",
    "# Set the label for the x-axis\n",
    "plt.xlabel('Year')\n",
    "\n",
    "# Set the label for the y-axis\n",
    "plt.ylabel('Price')\n",
    "\n",
    "# Add a legend to the plot\n",
    "plt.legend()\n",
    "\n",
    "# Enable the grid\n",
    "plt.grid(True)\n",
    "\n",
    "\n",
    "# Display the plot\n",
    "plt.show()\n"
   ]
  }
 ],
 "metadata": {
  "kernelspec": {
   "display_name": "Python 3",
   "language": "python",
   "name": "python3"
  },
  "language_info": {
   "codemirror_mode": {
    "name": "ipython",
    "version": 3
   },
   "file_extension": ".py",
   "mimetype": "text/x-python",
   "name": "python",
   "nbconvert_exporter": "python",
   "pygments_lexer": "ipython3",
   "version": "3.12.0"
  }
 },
 "nbformat": 4,
 "nbformat_minor": 2
}
